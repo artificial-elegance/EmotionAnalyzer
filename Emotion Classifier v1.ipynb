{
 "cells": [
  {
   "cell_type": "code",
   "execution_count": 1,
   "id": "0542726b",
   "metadata": {},
   "outputs": [],
   "source": [
    "import numpy as np # linear algebra\n",
    "import pandas as pd # data processing, CSV file I/O (e.g. pd.read_csv)\n",
    "import os\n",
    "#for dirname, _, filenames in os.walk('/kaggle/input'):\n",
    "    #for filename in filenames:\n",
    "        #print(os.path.join(dirname, filename))\n",
    "import matplotlib.pyplot as plt\n",
    "import seaborn as sns\n",
    "import tensorflow as tf\n",
    "import keras\n",
    "from keras.preprocessing import image\n",
    "from keras.models import Sequential\n",
    "from keras.layers import Conv2D, MaxPool2D, Flatten,Dense,Dropout,BatchNormalization\n",
    "from tensorflow.keras.preprocessing.image import ImageDataGenerator\n",
    "import cv2\n",
    "from tensorflow.keras.applications import VGG16, InceptionResNetV2\n",
    "from keras import regularizers\n",
    "from tensorflow.keras.optimizers import Adam,RMSprop,SGD,Adamax"
   ]
  },
  {
   "cell_type": "markdown",
   "id": "9ea26977",
   "metadata": {},
   "source": [
    "# Loading the Data"
   ]
  },
  {
   "cell_type": "code",
   "execution_count": 2,
   "id": "3efad1ad",
   "metadata": {},
   "outputs": [],
   "source": [
    "train_dir = \"Z:\\MIT FutureMakers\\Week 4\\FER-2013/train\" #passing the path with training images\n",
    "test_dir = \"Z:\\MIT FutureMakers\\Week 4\\FER-2013/test\"   #passing the path with testing images"
   ]
  },
  {
   "cell_type": "code",
   "execution_count": 3,
   "id": "6a83b632",
   "metadata": {},
   "outputs": [],
   "source": [
    "img_size = 48 #original size of the image"
   ]
  },
  {
   "cell_type": "markdown",
   "id": "ac252d09",
   "metadata": {},
   "source": [
    "# Data Augmentation"
   ]
  },
  {
   "cell_type": "code",
   "execution_count": 4,
   "id": "37ae9d06",
   "metadata": {},
   "outputs": [],
   "source": [
    "\"\"\"\n",
    "Data Augmentation\n",
    "--------------------------\n",
    "rotation_range = rotates the image with the amount of degrees we provide\n",
    "width_shift_range = shifts the image randomly to the right or left along the width of the image\n",
    "height_shift range = shifts image randomly to up or below along the height of the image\n",
    "horizontal_flip = flips the image horizontally\n",
    "rescale = to scale down the pizel values in our image between 0 and 1\n",
    "zoom_range = applies random zoom to our object\n",
    "validation_split = reserves some images to be used for validation purpose\n",
    "\"\"\"\n",
    "\n",
    "train_datagen = ImageDataGenerator(#rotation_range = 180,\n",
    "                                         width_shift_range = 0.1,\n",
    "                                         height_shift_range = 0.1,\n",
    "                                         horizontal_flip = True,\n",
    "                                         rescale = 1./255,\n",
    "                                         #zoom_range = 0.2,\n",
    "                                         validation_split = 0.2\n",
    "                                        )\n",
    "validation_datagen = ImageDataGenerator(rescale = 1./255,\n",
    "                                         validation_split = 0.2)\n",
    "\n",
    "# random seeding\n",
    "np.random.seed(1)\n",
    "tf.random.set_seed(1)"
   ]
  },
  {
   "cell_type": "code",
   "execution_count": 5,
   "id": "0d1a08de",
   "metadata": {},
   "outputs": [
    {
     "name": "stdout",
     "output_type": "stream",
     "text": [
      "Found 22968 images belonging to 7 classes.\n",
      "Found 1432 images belonging to 7 classes.\n"
     ]
    }
   ],
   "source": [
    "\"\"\"\n",
    "Applying data augmentation to the images as we read \n",
    "them from their respectivve directories\n",
    "\"\"\"\n",
    "train_generator = train_datagen.flow_from_directory(directory = train_dir,\n",
    "                                                    target_size = (img_size,img_size),\n",
    "                                                    batch_size = 64,\n",
    "                                                    color_mode = \"grayscale\",\n",
    "                                                    class_mode = \"categorical\",\n",
    "                                                    subset = \"training\"\n",
    "                                                   )\n",
    "validation_generator = validation_datagen.flow_from_directory( directory = test_dir,\n",
    "                                                              target_size = (img_size,img_size),\n",
    "                                                              batch_size = 64,\n",
    "                                                              color_mode = \"grayscale\",\n",
    "                                                              class_mode = \"categorical\",\n",
    "                                                              subset = \"validation\"\n",
    "                                                             )"
   ]
  },
  {
   "cell_type": "markdown",
   "id": "6aa17415",
   "metadata": {},
   "source": [
    "# Building the Model"
   ]
  },
  {
   "cell_type": "code",
   "execution_count": 6,
   "id": "7d5c9705",
   "metadata": {},
   "outputs": [],
   "source": [
    "model= tf.keras.models.Sequential()\n",
    "model.add(Conv2D(32, kernel_size=(3, 3), padding='same', activation='relu', input_shape=(48, 48,1)))\n",
    "model.add(Conv2D(64,(3,3), padding='same', activation='relu' ))\n",
    "model.add(MaxPool2D(pool_size=(2, 2)))\n",
    "model.add(Dropout(0.25))\n",
    "\n",
    "model.add(Conv2D(128,(5,5), padding='same', activation='relu'))\n",
    "model.add(MaxPool2D(pool_size=(2, 2)))\n",
    "model.add(Dropout(0.25))\n",
    "    \n",
    "model.add(Conv2D(512,(3,3), padding='same', activation='relu', kernel_regularizer=regularizers.l2(0.01)))\n",
    "model.add(MaxPool2D(pool_size=(2, 2)))\n",
    "model.add(Dropout(0.25))\n",
    "\n",
    "model.add(Conv2D(512,(3,3), padding='same', activation='relu', kernel_regularizer=regularizers.l2(0.01)))\n",
    "model.add(MaxPool2D(pool_size=(2, 2)))\n",
    "model.add(Dropout(0.25))\n",
    "\n",
    "model.add(Flatten()) \n",
    "model.add(Dense(256,activation = 'relu'))\n",
    "model.add(Dropout(0.25))\n",
    "    \n",
    "model.add(Dense(512,activation = 'relu'))\n",
    "model.add(Dropout(0.25))\n",
    "\n",
    "model.add(Dense(7, activation='softmax'))\n",
    "\n",
    "model.compile(\n",
    "    optimizer = Adam(learning_rate=0.0001), \n",
    "    loss='categorical_crossentropy', \n",
    "    metrics=['accuracy']\n",
    "  )"
   ]
  },
  {
   "cell_type": "code",
   "execution_count": 7,
   "id": "ce065f31",
   "metadata": {},
   "outputs": [],
   "source": [
    "# initially tried 100 epochs, but stopped the model at 50 epochs after it started overfitting\n",
    "epochs = 50\n",
    "batch_size = 64"
   ]
  },
  {
   "cell_type": "markdown",
   "id": "80f92cf8",
   "metadata": {},
   "source": [
    "# Fitting the Model"
   ]
  },
  {
   "cell_type": "code",
   "execution_count": 8,
   "id": "abc7c518",
   "metadata": {
    "scrolled": true
   },
   "outputs": [
    {
     "name": "stdout",
     "output_type": "stream",
     "text": [
      "Epoch 1/50\n",
      "359/359 [==============================] - 18s 45ms/step - loss: 1.8319 - accuracy: 0.2468 - val_loss: 1.8386 - val_accuracy: 0.2472\n",
      "Epoch 2/50\n",
      "359/359 [==============================] - 15s 41ms/step - loss: 1.8080 - accuracy: 0.2500 - val_loss: 1.7989 - val_accuracy: 0.2514\n",
      "Epoch 3/50\n",
      "359/359 [==============================] - 15s 42ms/step - loss: 1.7780 - accuracy: 0.2541 - val_loss: 1.7154 - val_accuracy: 0.3115\n",
      "Epoch 4/50\n",
      "359/359 [==============================] - 15s 43ms/step - loss: 1.6930 - accuracy: 0.3160 - val_loss: 1.5760 - val_accuracy: 0.3973\n",
      "Epoch 5/50\n",
      "359/359 [==============================] - 15s 42ms/step - loss: 1.5644 - accuracy: 0.3860 - val_loss: 1.4510 - val_accuracy: 0.4281\n",
      "Epoch 6/50\n",
      "359/359 [==============================] - 15s 42ms/step - loss: 1.4691 - accuracy: 0.4337 - val_loss: 1.3575 - val_accuracy: 0.4770\n",
      "Epoch 7/50\n",
      "359/359 [==============================] - 16s 44ms/step - loss: 1.3966 - accuracy: 0.4606 - val_loss: 1.3083 - val_accuracy: 0.4972\n",
      "Epoch 8/50\n",
      "359/359 [==============================] - 15s 41ms/step - loss: 1.3520 - accuracy: 0.4848 - val_loss: 1.2709 - val_accuracy: 0.5223\n",
      "Epoch 9/50\n",
      "359/359 [==============================] - 15s 40ms/step - loss: 1.3087 - accuracy: 0.4932 - val_loss: 1.2217 - val_accuracy: 0.5426\n",
      "Epoch 10/50\n",
      "359/359 [==============================] - 15s 40ms/step - loss: 1.2784 - accuracy: 0.5108 - val_loss: 1.1914 - val_accuracy: 0.5447\n",
      "Epoch 11/50\n",
      "359/359 [==============================] - 15s 41ms/step - loss: 1.2509 - accuracy: 0.5222 - val_loss: 1.1416 - val_accuracy: 0.5615\n",
      "Epoch 12/50\n",
      "359/359 [==============================] - 15s 41ms/step - loss: 1.2204 - accuracy: 0.5344 - val_loss: 1.1346 - val_accuracy: 0.5691\n",
      "Epoch 13/50\n",
      "359/359 [==============================] - 14s 40ms/step - loss: 1.1965 - accuracy: 0.5481 - val_loss: 1.0994 - val_accuracy: 0.5887\n",
      "Epoch 14/50\n",
      "359/359 [==============================] - 14s 40ms/step - loss: 1.1771 - accuracy: 0.5526 - val_loss: 1.0854 - val_accuracy: 0.5845\n",
      "Epoch 15/50\n",
      "359/359 [==============================] - 14s 40ms/step - loss: 1.1551 - accuracy: 0.5637 - val_loss: 1.0772 - val_accuracy: 0.5880\n",
      "Epoch 16/50\n",
      "359/359 [==============================] - 14s 40ms/step - loss: 1.1427 - accuracy: 0.5656 - val_loss: 1.0703 - val_accuracy: 0.5922\n",
      "Epoch 17/50\n",
      "359/359 [==============================] - 14s 40ms/step - loss: 1.1268 - accuracy: 0.5734 - val_loss: 1.0532 - val_accuracy: 0.5943\n",
      "Epoch 18/50\n",
      "359/359 [==============================] - 14s 40ms/step - loss: 1.1099 - accuracy: 0.5822 - val_loss: 1.0345 - val_accuracy: 0.6013\n",
      "Epoch 19/50\n",
      "359/359 [==============================] - 14s 40ms/step - loss: 1.0973 - accuracy: 0.5856 - val_loss: 1.0270 - val_accuracy: 0.6054\n",
      "Epoch 20/50\n",
      "359/359 [==============================] - 14s 40ms/step - loss: 1.0859 - accuracy: 0.5900 - val_loss: 1.0266 - val_accuracy: 0.6041\n",
      "Epoch 21/50\n",
      "359/359 [==============================] - 14s 40ms/step - loss: 1.0721 - accuracy: 0.5970 - val_loss: 1.0163 - val_accuracy: 0.6089\n",
      "Epoch 22/50\n",
      "359/359 [==============================] - 14s 40ms/step - loss: 1.0594 - accuracy: 0.6014 - val_loss: 0.9995 - val_accuracy: 0.6264\n",
      "Epoch 23/50\n",
      "359/359 [==============================] - 14s 40ms/step - loss: 1.0508 - accuracy: 0.6052 - val_loss: 0.9947 - val_accuracy: 0.6215\n",
      "Epoch 24/50\n",
      "359/359 [==============================] - 14s 40ms/step - loss: 1.0378 - accuracy: 0.6099 - val_loss: 0.9828 - val_accuracy: 0.6362\n",
      "Epoch 25/50\n",
      "359/359 [==============================] - 14s 40ms/step - loss: 1.0268 - accuracy: 0.6137 - val_loss: 0.9853 - val_accuracy: 0.6313\n",
      "Epoch 26/50\n",
      "359/359 [==============================] - 14s 40ms/step - loss: 1.0135 - accuracy: 0.6191 - val_loss: 0.9774 - val_accuracy: 0.6222\n",
      "Epoch 27/50\n",
      "359/359 [==============================] - 14s 40ms/step - loss: 1.0042 - accuracy: 0.6228 - val_loss: 0.9621 - val_accuracy: 0.6383\n",
      "Epoch 28/50\n",
      "359/359 [==============================] - 14s 40ms/step - loss: 0.9982 - accuracy: 0.6251 - val_loss: 0.9463 - val_accuracy: 0.6501\n",
      "Epoch 29/50\n",
      "359/359 [==============================] - 14s 40ms/step - loss: 0.9877 - accuracy: 0.6299 - val_loss: 0.9671 - val_accuracy: 0.6292\n",
      "Epoch 30/50\n",
      "359/359 [==============================] - 14s 40ms/step - loss: 0.9769 - accuracy: 0.6334 - val_loss: 0.9580 - val_accuracy: 0.6327\n",
      "Epoch 31/50\n",
      "359/359 [==============================] - 14s 40ms/step - loss: 0.9681 - accuracy: 0.6348 - val_loss: 0.9399 - val_accuracy: 0.6425\n",
      "Epoch 32/50\n",
      "359/359 [==============================] - 14s 40ms/step - loss: 0.9605 - accuracy: 0.6418 - val_loss: 0.9467 - val_accuracy: 0.6446\n",
      "Epoch 33/50\n",
      "359/359 [==============================] - 15s 41ms/step - loss: 0.9530 - accuracy: 0.6438 - val_loss: 0.9497 - val_accuracy: 0.6404\n",
      "Epoch 34/50\n",
      "359/359 [==============================] - 15s 41ms/step - loss: 0.9447 - accuracy: 0.6460 - val_loss: 0.9305 - val_accuracy: 0.6529\n",
      "Epoch 35/50\n",
      "359/359 [==============================] - 14s 40ms/step - loss: 0.9305 - accuracy: 0.6498 - val_loss: 0.9385 - val_accuracy: 0.6466\n",
      "Epoch 36/50\n",
      "359/359 [==============================] - 14s 40ms/step - loss: 0.9243 - accuracy: 0.6532 - val_loss: 0.9281 - val_accuracy: 0.6529\n",
      "Epoch 37/50\n",
      "359/359 [==============================] - 14s 40ms/step - loss: 0.9175 - accuracy: 0.6591 - val_loss: 0.9097 - val_accuracy: 0.6606\n",
      "Epoch 38/50\n",
      "359/359 [==============================] - 14s 40ms/step - loss: 0.9085 - accuracy: 0.6608 - val_loss: 0.9081 - val_accuracy: 0.6620\n",
      "Epoch 39/50\n",
      "359/359 [==============================] - 14s 40ms/step - loss: 0.8986 - accuracy: 0.6624 - val_loss: 0.9139 - val_accuracy: 0.6634\n",
      "Epoch 40/50\n",
      "359/359 [==============================] - 14s 40ms/step - loss: 0.8944 - accuracy: 0.6688 - val_loss: 0.9280 - val_accuracy: 0.6557\n",
      "Epoch 41/50\n",
      "359/359 [==============================] - 14s 40ms/step - loss: 0.8871 - accuracy: 0.6678 - val_loss: 0.9260 - val_accuracy: 0.6648\n",
      "Epoch 42/50\n",
      "359/359 [==============================] - 14s 40ms/step - loss: 0.8788 - accuracy: 0.6721 - val_loss: 0.9115 - val_accuracy: 0.6683\n",
      "Epoch 43/50\n",
      "359/359 [==============================] - 14s 40ms/step - loss: 0.8731 - accuracy: 0.6736 - val_loss: 0.9040 - val_accuracy: 0.6739\n",
      "Epoch 44/50\n",
      "359/359 [==============================] - 14s 40ms/step - loss: 0.8571 - accuracy: 0.6789 - val_loss: 0.9164 - val_accuracy: 0.6746\n",
      "Epoch 45/50\n",
      "359/359 [==============================] - 14s 40ms/step - loss: 0.8534 - accuracy: 0.6777 - val_loss: 0.8875 - val_accuracy: 0.6830\n",
      "Epoch 46/50\n",
      "359/359 [==============================] - 14s 40ms/step - loss: 0.8476 - accuracy: 0.6842 - val_loss: 0.8933 - val_accuracy: 0.6795\n",
      "Epoch 47/50\n",
      "359/359 [==============================] - 14s 40ms/step - loss: 0.8417 - accuracy: 0.6835 - val_loss: 0.8872 - val_accuracy: 0.6697\n",
      "Epoch 48/50\n",
      "359/359 [==============================] - 14s 40ms/step - loss: 0.8295 - accuracy: 0.6923 - val_loss: 0.9000 - val_accuracy: 0.6711\n",
      "Epoch 49/50\n",
      "359/359 [==============================] - 14s 40ms/step - loss: 0.8257 - accuracy: 0.6900 - val_loss: 0.8914 - val_accuracy: 0.6837\n",
      "Epoch 50/50\n",
      "359/359 [==============================] - 14s 40ms/step - loss: 0.8202 - accuracy: 0.6916 - val_loss: 0.8959 - val_accuracy: 0.6746\n"
     ]
    }
   ],
   "source": [
    "history = model.fit(x = train_generator,epochs = epochs,validation_data = validation_generator)"
   ]
  },
  {
   "cell_type": "markdown",
   "id": "62a92d2b",
   "metadata": {},
   "source": [
    "# Plotting the Results"
   ]
  },
  {
   "cell_type": "code",
   "execution_count": 9,
   "id": "e1d80223",
   "metadata": {},
   "outputs": [
    {
     "data": {
      "image/png": "[encoded data removed]",
      "text/plain": [
       "<Figure size 864x288 with 2 Axes>"
      ]
     },
     "metadata": {
      "needs_background": "light"
     },
     "output_type": "display_data"
    }
   ],
   "source": [
    "fig , ax = plt.subplots(1,2)\n",
    "train_acc = history.history['accuracy']\n",
    "train_loss = history.history['loss']\n",
    "fig.set_size_inches(12,4)\n",
    "\n",
    "ax[0].plot(history.history['accuracy'])\n",
    "ax[0].plot(history.history['val_accuracy'])\n",
    "ax[0].set_title('Training Accuracy vs Validation Accuracy')\n",
    "ax[0].set_ylabel('Accuracy')\n",
    "ax[0].set_xlabel('Epoch')\n",
    "ax[0].legend(['Train', 'Validation'], loc='upper left')\n",
    "\n",
    "ax[1].plot(history.history['loss'])\n",
    "ax[1].plot(history.history['val_loss'])\n",
    "ax[1].set_title('Training Loss vs Validation Loss')\n",
    "ax[1].set_ylabel('Loss')\n",
    "ax[1].set_xlabel('Epoch')\n",
    "ax[1].legend(['Train', 'Validation'], loc='upper left')\n",
    "\n",
    "plt.show()"
   ]
  },
  {
   "cell_type": "markdown",
   "id": "93e15ae4",
   "metadata": {},
   "source": [
    "# Saving the Model"
   ]
  },
  {
   "cell_type": "code",
   "execution_count": 10,
   "id": "322f0d02",
   "metadata": {},
   "outputs": [
    {
     "name": "stderr",
     "output_type": "stream",
     "text": [
      "WARNING:absl:Found untraced functions such as conv2d_layer_call_fn, conv2d_layer_call_and_return_conditional_losses, conv2d_1_layer_call_fn, conv2d_1_layer_call_and_return_conditional_losses, dropout_layer_call_fn while saving (showing 5 of 75). These functions will not be directly callable after loading.\n"
     ]
    },
    {
     "name": "stdout",
     "output_type": "stream",
     "text": [
      "INFO:tensorflow:Assets written to: Z:\\MIT FutureMakers\\Create-a-Thon\\model1\\assets\n"
     ]
    },
    {
     "name": "stderr",
     "output_type": "stream",
     "text": [
      "INFO:tensorflow:Assets written to: Z:\\MIT FutureMakers\\Create-a-Thon\\model1\\assets\n"
     ]
    }
   ],
   "source": [
    "model.save('Z:\\MIT FutureMakers\\Create-a-Thon\\model1')"
   ]
  },
  {
   "cell_type": "code",
   "execution_count": 11,
   "id": "dc6569b8",
   "metadata": {},
   "outputs": [],
   "source": [
    "model.save_weights('Z:\\MIT FutureMakers\\Create-a-Thon\\model1/model.h5')"
   ]
  },
  {
   "cell_type": "code",
   "execution_count": null,
   "id": "46d0a02a",
   "metadata": {},
   "outputs": [],
   "source": []
  }
 ],
 "metadata": {
  "kernelspec": {
   "display_name": "Python 3 (ipykernel)",
   "language": "python",
   "name": "python3"
  },
  "language_info": {
   "codemirror_mode": {
    "name": "ipython",
    "version": 3
   },
   "file_extension": ".py",
   "mimetype": "text/x-python",
   "name": "python",
   "nbconvert_exporter": "python",
   "pygments_lexer": "ipython3",
   "version": "3.9.6"
  }
 },
 "nbformat": 4,
 "nbformat_minor": 5
}
